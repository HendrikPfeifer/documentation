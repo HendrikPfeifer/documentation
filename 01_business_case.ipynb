{
 "cells": [
  {
   "cell_type": "markdown",
   "metadata": {},
   "source": [
    "# Business Case\n",
    "\n",
    "The goal is to use the \"car prices\"-dataset to create models that can predict the price of a used car using random variables. The model should be deployed in a interactive dashbord which can be used by a company (seller of used cars) or/and their customers."
   ]
  }
 ],
 "metadata": {
  "language_info": {
   "name": "python"
  },
  "orig_nbformat": 4
 },
 "nbformat": 4,
 "nbformat_minor": 2
}
