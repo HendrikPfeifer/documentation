{
 "cells": [
  {
   "cell_type": "markdown",
   "metadata": {},
   "source": [
    "# Airflow - Data Preperation"
   ]
  },
  {
   "cell_type": "code",
   "execution_count": 1,
   "metadata": {},
   "outputs": [],
   "source": [
    "\"\"\" \n",
    "    Data preparation\n",
    "\n",
    "Step 1) Import data with pandas\n",
    "Step 2) Make some data corrections\n",
    "Step 3) Save data as csv to local folder\n",
    "\n",
    "\"\"\"\n",
    "#------------------------------------------------------\n",
    "# Setup\n",
    "import pandas as pd\n",
    "\n",
    "\n",
    "#------------------------------------------------------\n",
    "# Step 1: Import data from local folder\n",
    "df = pd.read_csv(\"/Users/hendrikpfeifer/airflow/dags/carprices_dag/car_prices.csv\", on_bad_lines=\"skip\")\n",
    "\n",
    "#------------------------------------------------------\n",
    "# Step 2: Data cleaning \n",
    "\n",
    "# drop column with too many missing values\n",
    "df = df.drop(['transmission'], axis=1)\n",
    "\n",
    "# drop remaining row with one missing value\n",
    "df = df.dropna()\n",
    "\n",
    "# Drop irrelevant features\n",
    "df = df.drop(['trim', 'vin', 'mmr', 'saledate', 'seller'], axis=1)\n",
    "\n",
    "# rename columns\n",
    "df = df.rename(columns={\n",
    "\"make\" : \"brand\",\n",
    "\"body\" : \"type\",\n",
    "\"odometer\" : \"miles\"} \n",
    "    )\n",
    "\n",
    "# transform into lowercase\n",
    "df[\"brand\"] = df[\"brand\"].str.lower()\n",
    "df[\"model\"] = df[\"model\"].str.lower()\n",
    "df[\"type\"] = df[\"type\"].str.lower()\n",
    "\n",
    "\n",
    "\n",
    "#------------------------------------------------------\n",
    "\n",
    "# Step 3: Save data to current working directory\n",
    "df.to_csv('/Users/hendrikpfeifer/airflow/dags/carprices_dag/df_clean.csv', index=False)\n",
    "\n",
    "\n",
    "\n"
   ]
  }
 ],
 "metadata": {
  "kernelspec": {
   "display_name": "Python 3.9.7",
   "language": "python",
   "name": "python3"
  },
  "language_info": {
   "codemirror_mode": {
    "name": "ipython",
    "version": 3
   },
   "file_extension": ".py",
   "mimetype": "text/x-python",
   "name": "python",
   "nbconvert_exporter": "python",
   "pygments_lexer": "ipython3",
   "version": "3.9.7"
  },
  "orig_nbformat": 4,
  "vscode": {
   "interpreter": {
    "hash": "335060b61a67eb4c401d5f3f6b1f258d6cc22aa566029d9507a631182a43c50d"
   }
  }
 },
 "nbformat": 4,
 "nbformat_minor": 2
}
