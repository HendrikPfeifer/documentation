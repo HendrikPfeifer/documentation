{
 "cells": [
  {
   "cell_type": "markdown",
   "metadata": {},
   "source": [
    "# Airflow - Prediction"
   ]
  },
  {
   "cell_type": "code",
   "execution_count": 1,
   "metadata": {},
   "outputs": [],
   "source": [
    "\"\"\"\n",
    "    Make prediction\n",
    "\n",
    "Step 1) Import model \n",
    "Step 2) Create new data\n",
    "Step 3) Make prediction\n",
    "Step 4) Store prediction\n",
    "\n",
    "\"\"\"\n",
    "#------------------------------------------------------\n",
    "# Setup\n",
    "import pandas as pd\n",
    "from joblib import load\n",
    "\n",
    "\n",
    "#------------------------------------------------------\n",
    "# Step 1) Import model \n",
    "lm_model = load(\"/Users/hendrikpfeifer/airflow/dags/carprices_dag/my_linear_model.joblib\")\n",
    "\n",
    "#------------------------------------------------------\n",
    "# Step 2) Make new data\n",
    "\n",
    "# Create a new GDP value\n",
    "X_new = pd.DataFrame({\n",
    "    \"year\": [2015],\n",
    "    \"brand\": \"kia\",\n",
    "    \"model\": \"sorento\",\n",
    "    \"type\": \"suv\",\n",
    "    \"state\": \"ca\",\n",
    "    \"condition\": [5.0],\n",
    "    \"miles\": [16639.0],\n",
    "    \"color\": \"white\",\n",
    "    \"interior\": \"black\",\n",
    "})\n",
    "\n",
    "#------------------------------------------------------\n",
    "# Step 3) Make prediction\n",
    "\n",
    "# Make prediction\n",
    "my_prediction = lm_model.predict(X_new)\n",
    "\n",
    "#------------------------------------------------------\n",
    "# Step 4) Save prediction\n",
    "\n",
    "# Save prediction as dataframe \n",
    "df_prediction = pd.DataFrame({\"pred\": my_prediction})\n",
    "\n",
    "# Store predictions as csv\n",
    "df_prediction.to_csv(\"/Users/hendrikpfeifer/airflow/dags/carprices_dag/my_prediction.csv\")\n",
    "\n",
    "\n"
   ]
  }
 ],
 "metadata": {
  "kernelspec": {
   "display_name": "Python 3.9.7",
   "language": "python",
   "name": "python3"
  },
  "language_info": {
   "codemirror_mode": {
    "name": "ipython",
    "version": 3
   },
   "file_extension": ".py",
   "mimetype": "text/x-python",
   "name": "python",
   "nbconvert_exporter": "python",
   "pygments_lexer": "ipython3",
   "version": "3.9.7"
  },
  "orig_nbformat": 4,
  "vscode": {
   "interpreter": {
    "hash": "335060b61a67eb4c401d5f3f6b1f258d6cc22aa566029d9507a631182a43c50d"
   }
  }
 },
 "nbformat": 4,
 "nbformat_minor": 2
}
