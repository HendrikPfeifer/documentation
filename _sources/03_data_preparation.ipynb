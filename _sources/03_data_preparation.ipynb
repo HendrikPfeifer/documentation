{
 "cells": [
  {
   "cell_type": "markdown",
   "metadata": {},
   "source": [
    "# Data preparation\n"
   ]
  },
  {
   "cell_type": "markdown",
   "metadata": {},
   "source": [
    "## Conclusion from Data Analysis (EDA):\n",
    "\n",
    "\n",
    "* ratingprice and sellingprice have a very high correlation, therefore I would remove the column \"ratingprice\" from the dataset.\n",
    "\n",
    "* code is not necessary, therefore I would remove the column \"code\" from the dataset.\n",
    "\n",
    "* saledate is also unnecessary, therefore I would remove the column \"saledate\" from the dataset.\n",
    "\n",
    "* there are almost only automatic cars in \"drivetrain\" - therefore I drop this feature.\n",
    "\n",
    "* I have also removed the column \"seller\" to simplify the data-understanding of the project.\n"
   ]
  },
  {
   "cell_type": "markdown",
   "metadata": {},
   "source": [
    "### Load packages"
   ]
  },
  {
   "cell_type": "code",
   "execution_count": 1,
   "metadata": {},
   "outputs": [],
   "source": [
    "import pandas as pd\n",
    "import numpy as np"
   ]
  },
  {
   "cell_type": "code",
   "execution_count": 2,
   "metadata": {},
   "outputs": [],
   "source": [
    "# import dataset and save it as df\n",
    "\n",
    "df = pd.read_csv(\"car_prices.csv\", on_bad_lines=\"skip\")"
   ]
  },
  {
   "cell_type": "code",
   "execution_count": 3,
   "metadata": {},
   "outputs": [],
   "source": [
    "# drop missing vales (dataset is still big enough)\n",
    "\n",
    "df = df.dropna()"
   ]
  },
  {
   "cell_type": "code",
   "execution_count": 4,
   "metadata": {},
   "outputs": [],
   "source": [
    "# rename colums for better understanding (as described above)\n",
    "\n",
    "df = df.rename(columns={\n",
    "\"make\" : \"brand\",\n",
    "\"body\" : \"type\",\n",
    "\"trim\" : \"version\",\n",
    "\"transmission\" : \"drivetrain\",\n",
    "\"vin\" : \"code\",\n",
    "\"odometer\" : \"miles\",\n",
    "\"mmr\" : \"ratingprice\"} \n",
    "    )"
   ]
  },
  {
   "cell_type": "code",
   "execution_count": 5,
   "metadata": {},
   "outputs": [],
   "source": [
    "# transform into lowercase\n",
    "\n",
    "df[\"brand\"] = df[\"brand\"].str.lower()\n",
    "df[\"model\"] = df[\"model\"].str.lower()\n",
    "df[\"type\"] = df[\"type\"].str.lower()\n",
    "df[\"drivetrain\"] = df[\"drivetrain\"].str.lower()\n",
    "df[\"state\"] = df[\"state\"].str.lower()\n",
    "df[\"version\"] = df[\"version\"].str.lower()\n",
    "df[\"color\"] = df[\"color\"].str.lower()\n",
    "df[\"interior\"] = df[\"interior\"].str.lower()\n",
    "df[\"seller\"] = df[\"seller\"].str.lower()"
   ]
  },
  {
   "cell_type": "code",
   "execution_count": 6,
   "metadata": {},
   "outputs": [],
   "source": [
    "# transform into categorial variables\n",
    "\n",
    "for cat in [\"year\", \"brand\", \"model\", \"type\", \"drivetrain\", \"code\", \"state\", \"condition\", \"color\", \"interior\", \"seller\", \"saledate\"]:\n",
    "    df[cat] = df[cat].astype(\"category\")"
   ]
  },
  {
   "cell_type": "code",
   "execution_count": 8,
   "metadata": {},
   "outputs": [],
   "source": [
    "# drop irrelevant features\n",
    "\n",
    "df = df.drop([\"code\", \"ratingprice\", \"version\", \"saledate\", \"drivetrain\", \"seller\"], axis=1)\n"
   ]
  },
  {
   "cell_type": "code",
   "execution_count": 9,
   "metadata": {},
   "outputs": [
    {
     "name": "stdout",
     "output_type": "stream",
     "text": [
      "<class 'pandas.core.frame.DataFrame'>\n",
      "Int64Index: 472336 entries, 0 to 558810\n",
      "Data columns (total 10 columns):\n",
      " #   Column        Non-Null Count   Dtype   \n",
      "---  ------        --------------   -----   \n",
      " 0   year          472336 non-null  category\n",
      " 1   brand         472336 non-null  category\n",
      " 2   model         472336 non-null  category\n",
      " 3   type          472336 non-null  category\n",
      " 4   state         472336 non-null  category\n",
      " 5   condition     472336 non-null  category\n",
      " 6   miles         472336 non-null  float64 \n",
      " 7   color         472336 non-null  category\n",
      " 8   interior      472336 non-null  category\n",
      " 9   sellingprice  472336 non-null  int64   \n",
      "dtypes: category(8), float64(1), int64(1)\n",
      "memory usage: 14.9 MB\n"
     ]
    }
   ],
   "source": [
    "df.info()"
   ]
  },
  {
   "cell_type": "code",
   "execution_count": 10,
   "metadata": {},
   "outputs": [
    {
     "data": {
      "text/html": [
       "<div>\n",
       "<style scoped>\n",
       "    .dataframe tbody tr th:only-of-type {\n",
       "        vertical-align: middle;\n",
       "    }\n",
       "\n",
       "    .dataframe tbody tr th {\n",
       "        vertical-align: top;\n",
       "    }\n",
       "\n",
       "    .dataframe thead th {\n",
       "        text-align: right;\n",
       "    }\n",
       "</style>\n",
       "<table border=\"1\" class=\"dataframe\">\n",
       "  <thead>\n",
       "    <tr style=\"text-align: right;\">\n",
       "      <th></th>\n",
       "      <th>year</th>\n",
       "      <th>brand</th>\n",
       "      <th>model</th>\n",
       "      <th>type</th>\n",
       "      <th>state</th>\n",
       "      <th>condition</th>\n",
       "      <th>miles</th>\n",
       "      <th>color</th>\n",
       "      <th>interior</th>\n",
       "      <th>sellingprice</th>\n",
       "    </tr>\n",
       "  </thead>\n",
       "  <tbody>\n",
       "    <tr>\n",
       "      <th>0</th>\n",
       "      <td>2015</td>\n",
       "      <td>kia</td>\n",
       "      <td>sorento</td>\n",
       "      <td>suv</td>\n",
       "      <td>ca</td>\n",
       "      <td>5.0</td>\n",
       "      <td>16639.0</td>\n",
       "      <td>white</td>\n",
       "      <td>black</td>\n",
       "      <td>21500</td>\n",
       "    </tr>\n",
       "    <tr>\n",
       "      <th>1</th>\n",
       "      <td>2015</td>\n",
       "      <td>kia</td>\n",
       "      <td>sorento</td>\n",
       "      <td>suv</td>\n",
       "      <td>ca</td>\n",
       "      <td>5.0</td>\n",
       "      <td>9393.0</td>\n",
       "      <td>white</td>\n",
       "      <td>beige</td>\n",
       "      <td>21500</td>\n",
       "    </tr>\n",
       "    <tr>\n",
       "      <th>2</th>\n",
       "      <td>2014</td>\n",
       "      <td>bmw</td>\n",
       "      <td>3 series</td>\n",
       "      <td>sedan</td>\n",
       "      <td>ca</td>\n",
       "      <td>4.5</td>\n",
       "      <td>1331.0</td>\n",
       "      <td>gray</td>\n",
       "      <td>black</td>\n",
       "      <td>30000</td>\n",
       "    </tr>\n",
       "    <tr>\n",
       "      <th>3</th>\n",
       "      <td>2015</td>\n",
       "      <td>volvo</td>\n",
       "      <td>s60</td>\n",
       "      <td>sedan</td>\n",
       "      <td>ca</td>\n",
       "      <td>4.1</td>\n",
       "      <td>14282.0</td>\n",
       "      <td>white</td>\n",
       "      <td>black</td>\n",
       "      <td>27750</td>\n",
       "    </tr>\n",
       "    <tr>\n",
       "      <th>4</th>\n",
       "      <td>2014</td>\n",
       "      <td>bmw</td>\n",
       "      <td>6 series gran coupe</td>\n",
       "      <td>sedan</td>\n",
       "      <td>ca</td>\n",
       "      <td>4.3</td>\n",
       "      <td>2641.0</td>\n",
       "      <td>gray</td>\n",
       "      <td>black</td>\n",
       "      <td>67000</td>\n",
       "    </tr>\n",
       "  </tbody>\n",
       "</table>\n",
       "</div>"
      ],
      "text/plain": [
       "   year  brand                model   type state condition    miles  color  \\\n",
       "0  2015    kia              sorento    suv    ca       5.0  16639.0  white   \n",
       "1  2015    kia              sorento    suv    ca       5.0   9393.0  white   \n",
       "2  2014    bmw             3 series  sedan    ca       4.5   1331.0   gray   \n",
       "3  2015  volvo                  s60  sedan    ca       4.1  14282.0  white   \n",
       "4  2014    bmw  6 series gran coupe  sedan    ca       4.3   2641.0   gray   \n",
       "\n",
       "  interior  sellingprice  \n",
       "0    black         21500  \n",
       "1    beige         21500  \n",
       "2    black         30000  \n",
       "3    black         27750  \n",
       "4    black         67000  "
      ]
     },
     "execution_count": 10,
     "metadata": {},
     "output_type": "execute_result"
    }
   ],
   "source": [
    "df.head()"
   ]
  },
  {
   "cell_type": "code",
   "execution_count": null,
   "metadata": {},
   "outputs": [],
   "source": [
    "# export prepared dataset\n",
    "from pathlib import Path  \n",
    "\n",
    "filepath = Path('/Users/hendrikpfeifer/MLOps_SoSe22/car_prices_project/car_prices_clean.csv')  \n",
    "\n",
    "filepath.parent.mkdir(parents=False, exist_ok=True)  \n",
    "\n",
    "df.to_csv(filepath)  "
   ]
  }
 ],
 "metadata": {
  "interpreter": {
   "hash": "335060b61a67eb4c401d5f3f6b1f258d6cc22aa566029d9507a631182a43c50d"
  },
  "kernelspec": {
   "display_name": "Python 3.9.7",
   "language": "python",
   "name": "python3"
  },
  "language_info": {
   "codemirror_mode": {
    "name": "ipython",
    "version": 3
   },
   "file_extension": ".py",
   "mimetype": "text/x-python",
   "name": "python",
   "nbconvert_exporter": "python",
   "pygments_lexer": "ipython3",
   "version": "3.9.7"
  },
  "orig_nbformat": 4
 },
 "nbformat": 4,
 "nbformat_minor": 2
}
