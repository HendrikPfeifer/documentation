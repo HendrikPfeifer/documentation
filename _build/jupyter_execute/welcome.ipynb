{
 "cells": [
  {
   "cell_type": "markdown",
   "metadata": {},
   "source": [
    "# Welcome to the documentation\n",
    "\n",
    "### This is a book to give you an overview about the progess of my the MLOps-project concerning the “Used car prices”-dataset.\n",
    "\n",
    "Check out the full documentation on the content pages below."
   ]
  }
 ],
 "metadata": {
  "language_info": {
   "codemirror_mode": {
    "name": "ipython",
    "version": 3
   },
   "file_extension": ".py",
   "mimetype": "text/x-python",
   "name": "python",
   "nbconvert_exporter": "python",
   "pygments_lexer": "ipython3",
   "version": "3.9.12"
  }
 },
 "nbformat": 4,
 "nbformat_minor": 2
}