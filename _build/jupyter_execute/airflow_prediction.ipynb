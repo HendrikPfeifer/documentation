{
 "cells": [
  {
   "cell_type": "markdown",
   "metadata": {},
   "source": [
    "# Airflow Prediction"
   ]
  },
  {
   "cell_type": "code",
   "execution_count": null,
   "metadata": {},
   "outputs": [],
   "source": [
    "\"\"\"\n",
    "    Make prediction\n",
    "\n",
    "Step 1) Import model \n",
    "Step 2) Create new data\n",
    "Step 3) Make prediction\n",
    "Step 4) Store prediction\n",
    "\n",
    "\"\"\"\n",
    "#------------------------------------------------------\n",
    "# Setup\n",
    "import pandas as pd\n",
    "from joblib import load\n",
    "\n",
    "\n",
    "#------------------------------------------------------\n",
    "# Step 1) Import model \n",
    "lm_model = load(\"/Users/hendrikpfeifer/airflow/dags/carprices_dag/my_linear_model.joblib\")\n",
    "\n",
    "#------------------------------------------------------\n",
    "# Step 2) Make new data\n",
    "\n",
    "# Create a new GDP value\n",
    "X_new = pd.DataFrame({\n",
    "    \"year\": [2015],\n",
    "    \"brand\": \"kia\",\n",
    "    \"model\": \"sorento\",\n",
    "    \"type\": \"suv\",\n",
    "    \"state\": \"ca\",\n",
    "    \"condition\": [5.0],\n",
    "    \"miles\": [16639.0],\n",
    "    \"color\": \"white\",\n",
    "    \"interior\": \"black\",\n",
    "    \"seller\": \"kia motors america, inc\",\n",
    "})\n",
    "\n",
    "#------------------------------------------------------\n",
    "# Step 3) Make prediction\n",
    "\n",
    "# Make prediction\n",
    "my_prediction = lm_model.predict(X_new)\n",
    "\n",
    "#------------------------------------------------------\n",
    "# Step 4) Save prediction\n",
    "\n",
    "# Save prediction as dataframe \n",
    "df_prediction = pd.DataFrame({\"pred\": my_prediction})\n",
    "\n",
    "# Store predictions as csv\n",
    "df_prediction.to_csv(\"/Users/hendrikpfeifer/airflow/dags/carprices_dag/my_prediction.csv\")"
   ]
  }
 ],
 "metadata": {
  "interpreter": {
   "hash": "8814a66d0c6ee5091186364dc57e3b89f0babd2556ec5a82c2d35416ef196c23"
  },
  "kernelspec": {
   "display_name": "Python 3.9.12 ('airflow')",
   "language": "python",
   "name": "python3"
  },
  "language_info": {
   "name": "python",
   "version": "3.10.4"
  }
 },
 "nbformat": 4,
 "nbformat_minor": 2
}